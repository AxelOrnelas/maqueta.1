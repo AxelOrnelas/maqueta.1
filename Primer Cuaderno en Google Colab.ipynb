{
  "nbformat": 4,
  "nbformat_minor": 0,
  "metadata": {
    "colab": {
      "provenance": [],
      "authorship_tag": "ABX9TyP6ccN9vKt2LxnWzcIQTbQb",
      "include_colab_link": true
    },
    "kernelspec": {
      "name": "python3",
      "display_name": "Python 3"
    },
    "language_info": {
      "name": "python"
    }
  },
  "cells": [
    {
      "cell_type": "markdown",
      "metadata": {
        "id": "view-in-github",
        "colab_type": "text"
      },
      "source": [
        "<a href=\"https://colab.research.google.com/github/AxelOrnelas/maqueta.1/blob/main/Primer%20Cuaderno%20en%20Google%20Colab.ipynb\" target=\"_parent\"><img src=\"https://colab.research.google.com/assets/colab-badge.svg\" alt=\"Open In Colab\"/></a>"
      ]
    },
    {
      "cell_type": "markdown",
      "source": [
        "###Este es mi primer cuaderno en Google Colab\n",
        "##yo soy Axel gerardo Ornelas\n",
        "<img src=https://i.kym-cdn.com/photos/images/newsfeed/002/652/421/280.jpg>"
      ],
      "metadata": {
        "id": "kYyR9rg2Ypxr"
      }
    }
  ]
}